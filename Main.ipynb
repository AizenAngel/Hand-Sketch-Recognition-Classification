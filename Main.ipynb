{
 "cells": [
  {
   "cell_type": "code",
   "execution_count": 1,
   "metadata": {},
   "outputs": [],
   "source": [
    "from model import create_model\n",
    "from get_training_and_testing_data import get_images_and_labels\n",
    "from extract_and_save_images import make_classes\n",
    "from download_data import download_data\n",
    "from sklearn.model_selection import train_test_split\n",
    "from tensorflow import keras\n",
    "import tensorflow as tf\n",
    "from matplotlib import pyplot as plt"
   ]
  },
  {
   "cell_type": "code",
   "execution_count": 2,
   "metadata": {},
   "outputs": [],
   "source": [
    "save_path = './images'\n",
    "download_data(save_path)"
   ]
  },
  {
   "cell_type": "code",
   "execution_count": 3,
   "metadata": {},
   "outputs": [],
   "source": [
    "downloaded_path = './images/downloads'\n",
    "save_classes_path = './sketch-classes'\n",
    "make_classes(downloaded_path, save_classes_path)"
   ]
  },
  {
   "cell_type": "code",
   "execution_count": 4,
   "metadata": {},
   "outputs": [
    {
     "name": "stderr",
     "output_type": "stream",
     "text": [
      " 29%|████████████                              | 99/345 [02:26<06:04,  1.48s/it]\n"
     ]
    }
   ],
   "source": [
    "num_classes = 100\n",
    "X, y, _ = get_images_and_labels(save_classes_path, num_classes)"
   ]
  },
  {
   "cell_type": "code",
   "execution_count": 5,
   "metadata": {},
   "outputs": [],
   "source": [
    "y = keras.utils.to_categorical(y, num_classes)"
   ]
  },
  {
   "cell_type": "code",
   "execution_count": 6,
   "metadata": {},
   "outputs": [],
   "source": [
    "X = X.astype('float32') / 255.0"
   ]
  },
  {
   "cell_type": "code",
   "execution_count": 7,
   "metadata": {},
   "outputs": [],
   "source": [
    "X_train, X_test, y_train, y_test = train_test_split(X, y, test_size = 0.2, random_state = 11, stratify=y)"
   ]
  },
  {
   "cell_type": "code",
   "execution_count": 8,
   "metadata": {
    "scrolled": false
   },
   "outputs": [
    {
     "name": "stderr",
     "output_type": "stream",
     "text": [
      "2022-06-22 23:02:56.438889: I tensorflow/stream_executor/cuda/cuda_gpu_executor.cc:975] successful NUMA node read from SysFS had negative value (-1), but there must be at least one NUMA node, so returning NUMA node zero\n",
      "2022-06-22 23:02:56.470433: I tensorflow/stream_executor/cuda/cuda_gpu_executor.cc:975] successful NUMA node read from SysFS had negative value (-1), but there must be at least one NUMA node, so returning NUMA node zero\n",
      "2022-06-22 23:02:56.471082: I tensorflow/stream_executor/cuda/cuda_gpu_executor.cc:975] successful NUMA node read from SysFS had negative value (-1), but there must be at least one NUMA node, so returning NUMA node zero\n",
      "2022-06-22 23:02:56.472227: I tensorflow/core/platform/cpu_feature_guard.cc:193] This TensorFlow binary is optimized with oneAPI Deep Neural Network Library (oneDNN) to use the following CPU instructions in performance-critical operations:  AVX2 FMA\n",
      "To enable them in other operations, rebuild TensorFlow with the appropriate compiler flags.\n",
      "2022-06-22 23:02:56.474172: I tensorflow/stream_executor/cuda/cuda_gpu_executor.cc:975] successful NUMA node read from SysFS had negative value (-1), but there must be at least one NUMA node, so returning NUMA node zero\n",
      "2022-06-22 23:02:56.475898: I tensorflow/stream_executor/cuda/cuda_gpu_executor.cc:975] successful NUMA node read from SysFS had negative value (-1), but there must be at least one NUMA node, so returning NUMA node zero\n",
      "2022-06-22 23:02:56.476896: I tensorflow/stream_executor/cuda/cuda_gpu_executor.cc:975] successful NUMA node read from SysFS had negative value (-1), but there must be at least one NUMA node, so returning NUMA node zero\n",
      "2022-06-22 23:02:57.029866: I tensorflow/stream_executor/cuda/cuda_gpu_executor.cc:975] successful NUMA node read from SysFS had negative value (-1), but there must be at least one NUMA node, so returning NUMA node zero\n",
      "2022-06-22 23:02:57.030252: I tensorflow/stream_executor/cuda/cuda_gpu_executor.cc:975] successful NUMA node read from SysFS had negative value (-1), but there must be at least one NUMA node, so returning NUMA node zero\n",
      "2022-06-22 23:02:57.030501: I tensorflow/stream_executor/cuda/cuda_gpu_executor.cc:975] successful NUMA node read from SysFS had negative value (-1), but there must be at least one NUMA node, so returning NUMA node zero\n",
      "2022-06-22 23:02:57.030902: I tensorflow/core/common_runtime/gpu/gpu_device.cc:1532] Created device /job:localhost/replica:0/task:0/device:GPU:0 with 4063 MB memory:  -> device: 0, name: NVIDIA GeForce RTX 3060 Laptop GPU, pci bus id: 0000:01:00.0, compute capability: 8.6\n"
     ]
    }
   ],
   "source": [
    "image_shape = (28, 28, 1)\n",
    "model = create_model(image_shape, num_classes)"
   ]
  },
  {
   "cell_type": "code",
   "execution_count": 9,
   "metadata": {},
   "outputs": [],
   "source": [
    "adam_optimizer = tf.keras.optimizers.Adam(learning_rate=0.003)\n",
    "\n",
    "model.compile(\n",
    "    optimizer=adam_optimizer,\n",
    "    loss=tf.keras.losses.categorical_crossentropy,\n",
    "    metrics=['accuracy']\n",
    ")"
   ]
  },
  {
   "cell_type": "code",
   "execution_count": 10,
   "metadata": {},
   "outputs": [],
   "source": [
    "early_stopping_callback = tf.keras.callbacks.EarlyStopping(\n",
    "    patience=5,\n",
    "    monitor='val_accuracy',\n",
    "    restore_best_weights=True,\n",
    "    verbose=1\n",
    ")"
   ]
  },
  {
   "cell_type": "code",
   "execution_count": 11,
   "metadata": {},
   "outputs": [],
   "source": [
    "# Dataset batching\n",
    "batch_size = 2000\n",
    "prefetch_buffer_batches = 10\n",
    "\n",
    "# Training\n",
    "epochs = 100\n",
    "steps_per_epoch = 500"
   ]
  },
  {
   "cell_type": "code",
   "execution_count": 12,
   "metadata": {},
   "outputs": [
    {
     "name": "stderr",
     "output_type": "stream",
     "text": [
      "2022-06-22 23:02:57.175051: W tensorflow/core/framework/cpu_allocator_impl.cc:82] Allocation of 1003520000 exceeds 10% of free system memory.\n",
      "2022-06-22 23:02:57.810228: W tensorflow/core/framework/cpu_allocator_impl.cc:82] Allocation of 1003520000 exceeds 10% of free system memory.\n"
     ]
    },
    {
     "name": "stdout",
     "output_type": "stream",
     "text": [
      "Epoch 1/100\n"
     ]
    },
    {
     "name": "stderr",
     "output_type": "stream",
     "text": [
      "2022-06-22 23:02:58.203927: W tensorflow/core/framework/cpu_allocator_impl.cc:82] Allocation of 128000000 exceeds 10% of free system memory.\n",
      "2022-06-22 23:02:59.906657: I tensorflow/stream_executor/cuda/cuda_dnn.cc:384] Loaded cuDNN version 8100\n",
      "2022-06-22 23:03:01.022172: I tensorflow/core/platform/default/subprocess.cc:304] Start cannot spawn child process: No such file or directory\n",
      "2022-06-22 23:03:01.023142: I tensorflow/core/platform/default/subprocess.cc:304] Start cannot spawn child process: No such file or directory\n",
      "2022-06-22 23:03:01.023205: W tensorflow/stream_executor/gpu/asm_compiler.cc:80] Couldn't get ptxas version string: INTERNAL: Couldn't invoke ptxas --version\n",
      "2022-06-22 23:03:01.024103: I tensorflow/core/platform/default/subprocess.cc:304] Start cannot spawn child process: No such file or directory\n",
      "2022-06-22 23:03:01.024200: W tensorflow/stream_executor/gpu/redzone_allocator.cc:314] INTERNAL: Failed to launch ptxas\n",
      "Relying on driver to perform ptx compilation. \n",
      "Modify $PATH to customize ptxas location.\n",
      "This message will be only logged once.\n",
      "2022-06-22 23:03:01.983467: I tensorflow/stream_executor/cuda/cuda_blas.cc:1786] TensorFloat-32 will be used for the matrix multiplication. This will only be logged once.\n"
     ]
    },
    {
     "name": "stdout",
     "output_type": "stream",
     "text": [
      "159/160 [============================>.] - ETA: 0s - loss: 3.5305 - accuracy: 0.3214"
     ]
    },
    {
     "name": "stderr",
     "output_type": "stream",
     "text": [
      "2022-06-22 23:03:07.123148: W tensorflow/core/framework/cpu_allocator_impl.cc:82] Allocation of 250880000 exceeds 10% of free system memory.\n",
      "2022-06-22 23:03:07.317668: W tensorflow/core/framework/cpu_allocator_impl.cc:82] Allocation of 250880000 exceeds 10% of free system memory.\n"
     ]
    },
    {
     "name": "stdout",
     "output_type": "stream",
     "text": [
      "160/160 [==============================] - 10s 35ms/step - loss: 3.5248 - accuracy: 0.3224 - val_loss: 2.6268 - val_accuracy: 0.4724\n",
      "Epoch 2/100\n",
      "160/160 [==============================] - 5s 32ms/step - loss: 2.4792 - accuracy: 0.5114 - val_loss: 2.3953 - val_accuracy: 0.5282\n",
      "Epoch 3/100\n",
      "160/160 [==============================] - 5s 32ms/step - loss: 2.3056 - accuracy: 0.5526 - val_loss: 2.2549 - val_accuracy: 0.5616\n",
      "Epoch 4/100\n",
      "160/160 [==============================] - 5s 32ms/step - loss: 2.1994 - accuracy: 0.5791 - val_loss: 2.1571 - val_accuracy: 0.5887\n",
      "Epoch 5/100\n",
      "160/160 [==============================] - 5s 33ms/step - loss: 2.1316 - accuracy: 0.5945 - val_loss: 2.1152 - val_accuracy: 0.6017\n",
      "Epoch 6/100\n",
      "160/160 [==============================] - 5s 33ms/step - loss: 2.0838 - accuracy: 0.6064 - val_loss: 2.1019 - val_accuracy: 0.6015\n",
      "Epoch 7/100\n",
      "160/160 [==============================] - 5s 33ms/step - loss: 2.0325 - accuracy: 0.6175 - val_loss: 2.0407 - val_accuracy: 0.6147\n",
      "Epoch 8/100\n",
      "160/160 [==============================] - 5s 33ms/step - loss: 1.9912 - accuracy: 0.6269 - val_loss: 2.0088 - val_accuracy: 0.6201\n",
      "Epoch 9/100\n",
      "160/160 [==============================] - 5s 33ms/step - loss: 1.9625 - accuracy: 0.6343 - val_loss: 1.9688 - val_accuracy: 0.6300\n",
      "Epoch 10/100\n",
      "160/160 [==============================] - 5s 33ms/step - loss: 1.9393 - accuracy: 0.6386 - val_loss: 1.9331 - val_accuracy: 0.6408\n",
      "Epoch 11/100\n",
      "160/160 [==============================] - 5s 33ms/step - loss: 1.9049 - accuracy: 0.6460 - val_loss: 1.9292 - val_accuracy: 0.6377\n",
      "Epoch 12/100\n",
      "160/160 [==============================] - 5s 32ms/step - loss: 1.8886 - accuracy: 0.6496 - val_loss: 1.8917 - val_accuracy: 0.6492\n",
      "Epoch 13/100\n",
      "160/160 [==============================] - 5s 33ms/step - loss: 1.8685 - accuracy: 0.6542 - val_loss: 1.8838 - val_accuracy: 0.6505\n",
      "Epoch 14/100\n",
      "160/160 [==============================] - 5s 33ms/step - loss: 1.8557 - accuracy: 0.6567 - val_loss: 1.8774 - val_accuracy: 0.6487\n",
      "Epoch 15/100\n",
      "160/160 [==============================] - 5s 33ms/step - loss: 1.8313 - accuracy: 0.6617 - val_loss: 1.8384 - val_accuracy: 0.6620\n",
      "Epoch 16/100\n",
      "160/160 [==============================] - 5s 33ms/step - loss: 1.8170 - accuracy: 0.6640 - val_loss: 1.8291 - val_accuracy: 0.6597\n",
      "Epoch 17/100\n",
      "160/160 [==============================] - 5s 33ms/step - loss: 1.8124 - accuracy: 0.6654 - val_loss: 1.8553 - val_accuracy: 0.6514\n",
      "Epoch 18/100\n",
      "160/160 [==============================] - 5s 33ms/step - loss: 1.7909 - accuracy: 0.6687 - val_loss: 1.7951 - val_accuracy: 0.6709\n",
      "Epoch 19/100\n",
      "160/160 [==============================] - 5s 33ms/step - loss: 1.7718 - accuracy: 0.6721 - val_loss: 1.8185 - val_accuracy: 0.6600\n",
      "Epoch 20/100\n",
      "160/160 [==============================] - 5s 33ms/step - loss: 1.7668 - accuracy: 0.6730 - val_loss: 1.8096 - val_accuracy: 0.6612\n",
      "Epoch 21/100\n",
      "160/160 [==============================] - 5s 33ms/step - loss: 1.7552 - accuracy: 0.6746 - val_loss: 1.7649 - val_accuracy: 0.6729\n",
      "Epoch 22/100\n",
      "160/160 [==============================] - 5s 33ms/step - loss: 1.7422 - accuracy: 0.6776 - val_loss: 1.7572 - val_accuracy: 0.6719\n",
      "Epoch 23/100\n",
      "160/160 [==============================] - 5s 33ms/step - loss: 1.7352 - accuracy: 0.6779 - val_loss: 1.7348 - val_accuracy: 0.6781\n",
      "Epoch 24/100\n",
      "160/160 [==============================] - 5s 33ms/step - loss: 1.7254 - accuracy: 0.6799 - val_loss: 1.7498 - val_accuracy: 0.6760\n",
      "Epoch 25/100\n",
      "160/160 [==============================] - 5s 33ms/step - loss: 1.7177 - accuracy: 0.6810 - val_loss: 1.7420 - val_accuracy: 0.6714\n",
      "Epoch 26/100\n",
      "160/160 [==============================] - 5s 33ms/step - loss: 1.7147 - accuracy: 0.6813 - val_loss: 1.7250 - val_accuracy: 0.6774\n",
      "Epoch 27/100\n",
      "160/160 [==============================] - 5s 33ms/step - loss: 1.6981 - accuracy: 0.6846 - val_loss: 1.7230 - val_accuracy: 0.6791\n",
      "Epoch 28/100\n",
      "160/160 [==============================] - 5s 33ms/step - loss: 1.6909 - accuracy: 0.6855 - val_loss: 1.7135 - val_accuracy: 0.6828\n",
      "Epoch 29/100\n",
      "160/160 [==============================] - 5s 33ms/step - loss: 1.6953 - accuracy: 0.6837 - val_loss: 1.7249 - val_accuracy: 0.6769\n",
      "Epoch 30/100\n",
      "160/160 [==============================] - 5s 33ms/step - loss: 1.6890 - accuracy: 0.6847 - val_loss: 1.6924 - val_accuracy: 0.6858\n",
      "Epoch 31/100\n",
      "160/160 [==============================] - 5s 33ms/step - loss: 1.6777 - accuracy: 0.6870 - val_loss: 1.7136 - val_accuracy: 0.6802\n",
      "Epoch 32/100\n",
      "160/160 [==============================] - 5s 33ms/step - loss: 1.6660 - accuracy: 0.6882 - val_loss: 1.6834 - val_accuracy: 0.6837\n",
      "Epoch 33/100\n",
      "160/160 [==============================] - 5s 33ms/step - loss: 1.6706 - accuracy: 0.6879 - val_loss: 1.6689 - val_accuracy: 0.6912\n",
      "Epoch 34/100\n",
      "160/160 [==============================] - 5s 33ms/step - loss: 1.6535 - accuracy: 0.6912 - val_loss: 1.6651 - val_accuracy: 0.6890\n",
      "Epoch 35/100\n",
      "160/160 [==============================] - 5s 33ms/step - loss: 1.6551 - accuracy: 0.6900 - val_loss: 1.6760 - val_accuracy: 0.6865\n",
      "Epoch 36/100\n",
      "160/160 [==============================] - 5s 33ms/step - loss: 1.6531 - accuracy: 0.6902 - val_loss: 1.6654 - val_accuracy: 0.6907\n",
      "Epoch 37/100\n",
      "160/160 [==============================] - 5s 33ms/step - loss: 1.6390 - accuracy: 0.6931 - val_loss: 1.6439 - val_accuracy: 0.6945\n",
      "Epoch 38/100\n",
      "160/160 [==============================] - 5s 33ms/step - loss: 1.6391 - accuracy: 0.6926 - val_loss: 1.6494 - val_accuracy: 0.6928\n",
      "Epoch 39/100\n",
      "160/160 [==============================] - 5s 33ms/step - loss: 1.6297 - accuracy: 0.6948 - val_loss: 1.7109 - val_accuracy: 0.6740\n",
      "Epoch 40/100\n",
      "160/160 [==============================] - 5s 33ms/step - loss: 1.6291 - accuracy: 0.6943 - val_loss: 1.6704 - val_accuracy: 0.6848\n",
      "Epoch 41/100\n",
      "160/160 [==============================] - 5s 33ms/step - loss: 1.6225 - accuracy: 0.6958 - val_loss: 1.6446 - val_accuracy: 0.6924\n",
      "Epoch 42/100\n",
      "159/160 [============================>.] - ETA: 0s - loss: 1.6185 - accuracy: 0.6962Restoring model weights from the end of the best epoch: 37.\n",
      "160/160 [==============================] - 5s 33ms/step - loss: 1.6190 - accuracy: 0.6961 - val_loss: 1.6359 - val_accuracy: 0.6942\n",
      "Epoch 42: early stopping\n"
     ]
    }
   ],
   "source": [
    "training_history = model.fit(\n",
    "    X_train,\n",
    "    y_train,\n",
    "    epochs=epochs,\n",
    "    validation_split = 0.2,\n",
    "    batch_size= batch_size,\n",
    "    verbose = 1,\n",
    "    callbacks=[\n",
    "        early_stopping_callback\n",
    "    ]\n",
    ")"
   ]
  },
  {
   "cell_type": "code",
   "execution_count": 13,
   "metadata": {},
   "outputs": [
    {
     "name": "stdout",
     "output_type": "stream",
     "text": [
      "3125/3125 [==============================] - 13s 4ms/step - loss: 1.6547 - accuracy: 0.6913\n"
     ]
    }
   ],
   "source": [
    "test_loss, test_prec = model.evaluate(X_test, y_test)"
   ]
  },
  {
   "cell_type": "code",
   "execution_count": 14,
   "metadata": {},
   "outputs": [
    {
     "data": {
      "text/plain": [
       "<matplotlib.legend.Legend at 0x7fe94a3aff10>"
      ]
     },
     "execution_count": 14,
     "metadata": {},
     "output_type": "execute_result"
    },
    {
     "data": {
      "image/png": "[encoded data removed]",
      "text/plain": [
       "<Figure size 432x288 with 1 Axes>"
      ]
     },
     "metadata": {
      "needs_background": "light"
     },
     "output_type": "display_data"
    }
   ],
   "source": [
    "plt.plot(training_history.epoch, training_history.history['val_loss'])\n",
    "plt.plot(training_history.epoch, training_history.history['loss'])\n",
    "plt.plot(len(training_history.epoch), test_loss, 'o')\n",
    "plt.legend(['val_loss', 'loss', 'test_loss'])"
   ]
  },
  {
   "cell_type": "code",
   "execution_count": 15,
   "metadata": {},
   "outputs": [
    {
     "data": {
      "text/plain": [
       "<matplotlib.legend.Legend at 0x7fe94a323fd0>"
      ]
     },
     "execution_count": 15,
     "metadata": {},
     "output_type": "execute_result"
    },
    {
     "data": {
      "image/png": "[encoded data removed]",
      "text/plain": [
       "<Figure size 432x288 with 1 Axes>"
      ]
     },
     "metadata": {
      "needs_background": "light"
     },
     "output_type": "display_data"
    }
   ],
   "source": [
    "plt.plot(training_history.epoch, training_history.history['val_accuracy'])\n",
    "plt.plot(training_history.epoch, training_history.history['accuracy'])\n",
    "plt.plot(len(training_history.epoch), test_prec, 'o')\n",
    "plt.legend(['val_acc', 'acc', 'test_acc'])"
   ]
  },
  {
   "cell_type": "code",
   "execution_count": 16,
   "metadata": {},
   "outputs": [],
   "source": [
    "model.save('sketch_classifier.h5')"
   ]
  },
  {
   "cell_type": "code",
   "execution_count": null,
   "metadata": {},
   "outputs": [],
   "source": []
  }
 ],
 "metadata": {
  "kernelspec": {
   "display_name": "Python 3 (ipykernel)",
   "language": "python",
   "name": "python3"
  },
  "language_info": {
   "codemirror_mode": {
    "name": "ipython",
    "version": 3
   },
   "file_extension": ".py",
   "mimetype": "text/x-python",
   "name": "python",
   "nbconvert_exporter": "python",
   "pygments_lexer": "ipython3",
   "version": "3.9.12"
  },
  "vscode": {
   "interpreter": {
    "hash": "2ee5a46d245032658fef1026c678b74205fbe802a1e6d9565d197250ef6ee628"
   }
  }
 },
 "nbformat": 4,
 "nbformat_minor": 2
}
